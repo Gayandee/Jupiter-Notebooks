{
 "cells": [
  {
   "cell_type": "markdown",
   "id": "f594a77a-1b89-45e1-a37e-03e415475c22",
   "metadata": {},
   "source": [
    "## Data Science Tools and Ecosystem\n",
    "In this notebook, Data Science Tools and Ecosystem are summarized."
   ]
  },
  {
   "cell_type": "markdown",
   "id": "2cc55a38-d456-42d7-bf86-b790ef8375f5",
   "metadata": {},
   "source": [
    "Some of the popular languages that Data Scientists use are:\n",
    "1. Python\n",
    "2. R\n",
    "3. SQL\n",
    "4. C++\n",
    "5. Java etc..;"
   ]
  },
  {
   "cell_type": "markdown",
   "id": "787ff9b7-a9cc-4dd8-8b3d-43f01c2b4051",
   "metadata": {},
   "source": [
    "Some of the commonly used libraries used by Data Scientists include:\n",
    "1. TensorFlow\n",
    "2. NumPy\n",
    "3. SciPy\n",
    "4. Pandas\n",
    "5. MatPlotLib\n",
    "6. Keras\n",
    "7. PyTorch etc..;"
   ]
  },
  {
   "cell_type": "markdown",
   "id": "f2273b92-0bc8-441a-851e-dca72d88240a",
   "metadata": {},
   "source": [
    "|Data Science Tools|\n",
    "|---|\n",
    "|SAS|\n",
    "|Apache Hadoop|\n",
    "|TensorFlow|"
   ]
  },
  {
   "cell_type": "markdown",
   "id": "1f52309a-d103-41c3-a669-c5398578c5a6",
   "metadata": {},
   "source": [
    "### Below are a few examples of evaluating arithmetic expressions in Python."
   ]
  },
  {
   "cell_type": "code",
   "execution_count": 1,
   "id": "e1c5e5a4-7cc6-4bd1-b239-246d4ef469d8",
   "metadata": {
    "tags": []
   },
   "outputs": [
    {
     "data": {
      "text/plain": [
       "17"
      ]
     },
     "execution_count": 1,
     "metadata": {},
     "output_type": "execute_result"
    }
   ],
   "source": [
    "#This a simple arithmetic expression to mutiply then add integers\n",
    "(3*4)+5"
   ]
  },
  {
   "cell_type": "code",
   "execution_count": 2,
   "id": "69f36597-6ce4-42f0-aafd-139471dd74cd",
   "metadata": {
    "tags": []
   },
   "outputs": [
    {
     "data": {
      "text/plain": [
       "3.3333333333333335"
      ]
     },
     "execution_count": 2,
     "metadata": {},
     "output_type": "execute_result"
    }
   ],
   "source": [
    "#This will convert 200 minutes to hours by diving by 60\n",
    "200/60"
   ]
  },
  {
   "cell_type": "markdown",
   "id": "723c1671-313d-4ab8-952f-42f6f595dad7",
   "metadata": {},
   "source": [
    "__Objective__\n",
    "* List popular languages in Data Science\n",
    "* List popular libraries in Data Science\n",
    "* List of well known Data Science Tools\n",
    "* How to provide comment in a cell"
   ]
  },
  {
   "cell_type": "markdown",
   "id": "94da7258-dbc5-4119-a058-c87716d696bd",
   "metadata": {},
   "source": [
    "## Author\n",
    "Gayandee Rajapaksha"
   ]
  }
 ],
 "metadata": {
  "kernelspec": {
   "display_name": "Python 3 (ipykernel)",
   "language": "python",
   "name": "python3"
  },
  "language_info": {
   "codemirror_mode": {
    "name": "ipython",
    "version": 3
   },
   "file_extension": ".py",
   "mimetype": "text/x-python",
   "name": "python",
   "nbconvert_exporter": "python",
   "pygments_lexer": "ipython3",
   "version": "3.11.5"
  }
 },
 "nbformat": 4,
 "nbformat_minor": 5
}
